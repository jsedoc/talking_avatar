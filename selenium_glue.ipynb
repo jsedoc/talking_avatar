{
  "cells": [
    {
      "cell_type": "markdown",
      "metadata": {
        "id": "sWNVdytXU30W"
      },
      "source": [
        "### **Backend**"
      ]
    },
    {
      "cell_type": "markdown",
      "metadata": {
        "id": "FAWAI8QbVUf6"
      },
      "source": [
        "setup"
      ]
    },
    {
      "cell_type": "code",
      "execution_count": 158,
      "metadata": {
        "id": "HuJc-XsMVAd-"
      },
      "outputs": [],
      "source": [
        "#!pip install selenium\n",
        "#!pip install SpeechRecognition\n",
        "#!pip install pyaudio"
      ]
    },
    {
      "cell_type": "code",
      "execution_count": 2,
      "metadata": {},
      "outputs": [],
      "source": [
        "import random\n",
        "import time\n",
        "\n",
        "from selenium import webdriver\n",
        "from selenium.webdriver.common.by import By\n",
        "\n",
        "import speech_recognition as sr\n",
        "import openai\n",
        "\n",
        "class Avatar:\n",
        "    def __init__(self, name='{self.name}', notebook_token ='') -> None:\n",
        "        self.name = name\n",
        "\n",
        "        driver=webdriver.Chrome('/Users/jsedoc/Downloads/chromedriver')\n",
        "        driver.get('http://localhost:3000/')\n",
        "\n",
        "        self.textarea = driver.find_element(By.TAG_NAME, \"textarea\")\n",
        "        self.button = driver.find_element(By.TAG_NAME, \"button\")\n",
        "\n",
        "        self.r = sr.Recognizer()\n",
        "        with sr.Microphone() as source:                # use the default microphone as the audio source\n",
        "            self.r.adjust_for_ambient_noise(source)         # listen for 1 second to calibrate the energy threshold for ambient noise levels\n",
        "\n",
        "\n",
        "        self.wps = 2.2 # words per second\n",
        "\n",
        "        self.conversation = []\n",
        "\n",
        "        self.nbc = NotebookController(notebook_token)\n",
        "        \n",
        "    def speak(self, text, all_text=''):\n",
        "        self.textarea.clear()\n",
        "        self.textarea.send_keys(text)\n",
        "        self.button.click()\n",
        "        if all_text == '':\n",
        "            self.conversation.append(text)\n",
        "        else:\n",
        "            self.conversation.append(all_text)\n",
        "        # 1 sec start time and the number of words in the text divided by wps (average words per second)\n",
        "        time.sleep(1 + len(text.split())/self.wps)\n",
        "        #print('done talking')\n",
        "\n",
        "    def listen(self):\n",
        "        with sr.Microphone() as source:\n",
        "            audio = self.r.listen(source)\n",
        "            try:\n",
        "                text = self.r.recognize_google(audio)\n",
        "                self.conversation.append(text)\n",
        "                spoken_text, all_text = self.generate_response(text)\n",
        "                self.speak(spoken_text, all_text)\n",
        "            except KeyError:\n",
        "                print(\"Sorry, I didn't get that\")\n",
        "                if random.randint(1, 5) == 1:\n",
        "                    self.speak(\"hmmm ... I'm so sorry, I didn't get that\")\n",
        "\n",
        "    def text_input(self, text):\n",
        "        self.conversation.append(text)\n",
        "        spoken_text, all_text = self.generate_response(text)\n",
        "        self.speak(spoken_text, all_text)\n",
        "\n",
        "    def format_for_GPT(self):\n",
        "        output_string = ''\n",
        "        for i, message in enumerate(self.conversation):\n",
        "            if i % 2 == 0:\n",
        "                # Even index, message is from the user                                                                                  \n",
        "                output_string += f'You: {message}\\n'\n",
        "            else:\n",
        "                # Odd index, message is from {self.name}                                                                                        \n",
        "                output_string += f'{self.name}: {message}\\n'\n",
        "        return output_string\n",
        "\n",
        "    def extract_code(self, text):\n",
        "        code = ''\n",
        "        if '```' in text:\n",
        "            code = text.split('```')[1]\n",
        "        return code\n",
        "    \n",
        "    def remove_code(self, text):\n",
        "        if '```' in text:\n",
        "            text = text.split('```')[0]\n",
        "        return text\n",
        "\n",
        "    def generate_response(self, text):                                                                                                \n",
        "        # Implement chatbot's response generation logic here                                                                       \n",
        "                                                                                                                                        \n",
        "        openai.api_key = 'API_KEY'\n",
        "                                                                                                                                        \n",
        "        conv_str = self.format_for_GPT()                                                                                       \n",
        "                                                                                                                                                                                                                                    \n",
        "        prompt=f\"{self.name} is a chatbot. {self.name} responds like an expert data scientist. {self.name} has read Data Science for Business in preparation for the interview.\\n\\n{conv_str}\\n{self.name}: \"\n",
        "        prompt=f\"{self.name} is a chatbot. {self.name} responds like an data scientist in a coding exam. {self.name} pust ``` before and after Python code.\\n\\n{conv_str}\\n{self.name}: \"\n",
        "                                                                                                                                        \n",
        "        #print(prompt)                                                                                                                  \n",
        "                                                                                                                                        \n",
        "        response = openai.Completion.create(                                                                                            \n",
        "            model=\"text-davinci-003\",                                                                                                   \n",
        "            prompt=prompt,                                                                                                              \n",
        "            temperature=0.5,                                                                                                            \n",
        "            max_tokens=289,                                                                                                             \n",
        "            top_p=0.3,                                                                                                                  \n",
        "            frequency_penalty=0.5,                                                                                                      \n",
        "            presence_penalty=0.3,                                                                                                       \n",
        "            stop=[\"You:\"]                                                                                                               \n",
        "        )                                                                                                                               \n",
        "                                                                                                                                        \n",
        "        response_text = response.choices[0].text.replace('{self.name}: ', '')\n",
        "\n",
        "        code = self.extract_code(response_text)\n",
        "        if code:\n",
        "            self.nbc.run_code(code)\n",
        "            self.nbc.new_cell()\n",
        "            spoken_text = self.remove_code(response_text)\n",
        "        else:\n",
        "            spoken_text = response_text\n",
        "                                                      \n",
        "        return spoken_text, response_text \n",
        "    "
      ]
    },
    {
      "cell_type": "code",
      "execution_count": 6,
      "metadata": {},
      "outputs": [
        {
          "name": "stderr",
          "output_type": "stream",
          "text": [
            "/var/folders/b1/zt36t5217xl_7s5k38c836tc0000gn/T/ipykernel_12678/661580032.py:14: DeprecationWarning: executable_path has been deprecated, please pass in a Service object\n",
            "  driver=webdriver.Chrome('/Users/jsedoc/Downloads/chromedriver')\n"
          ]
        },
        {
          "name": "stdout",
          "output_type": "stream",
          "text": [
            "http://localhost:8889/notebooks/GPT3_notebook.ipynb?token=de3bd468afafc97d2070c3ca5a2e88388c70c7d6e4be84bd\n"
          ]
        },
        {
          "name": "stderr",
          "output_type": "stream",
          "text": [
            "/var/folders/b1/zt36t5217xl_7s5k38c836tc0000gn/T/ipykernel_12678/4280353644.py:11: DeprecationWarning: executable_path has been deprecated, please pass in a Service object\n",
            "  self.notebook_driver=webdriver.Chrome('/Users/jsedoc/Downloads/chromedriver')\n"
          ]
        }
      ],
      "source": [
        "ad = Avatar(name='DS', notebook_token='de3bd468afafc97d2070c3ca5a2e88388c70c7d6e4be84bd')\n",
        "time.sleep(10)\n",
        "ad.speak(\"Hello, I am DS. It's a pleasure to meet you.\")\n",
        "#ad.listen()"
      ]
    },
    {
      "cell_type": "code",
      "execution_count": 22,
      "metadata": {},
      "outputs": [],
      "source": [
        "while 1:\n",
        "    text = input()\n",
        "    if text == \"[END]\":\n",
        "        break\n",
        "    ad.text_input(text)"
      ]
    },
    {
      "cell_type": "code",
      "execution_count": 7,
      "metadata": {},
      "outputs": [
        {
          "name": "stdout",
          "output_type": "stream",
          "text": [
            "result2:\n",
            "{   'alternative': [   {   'confidence': 0.97067946,\n",
            "                           'transcript': 'hi I can you tell me a little bit '\n",
            "                                         'more about data science are you '\n",
            "                                         'ready for the interview'},\n",
            "                       {   'transcript': 'hi I can you tell me a little bit '\n",
            "                                         'more about data science or you ready '\n",
            "                                         'for the interview'},\n",
            "                       {   'transcript': 'hi I can you tell me a little bit '\n",
            "                                         'more about data science so you ready '\n",
            "                                         'for the interview'}],\n",
            "    'final': True}\n"
          ]
        }
      ],
      "source": [
        "ad.listen()"
      ]
    },
    {
      "cell_type": "code",
      "execution_count": 125,
      "metadata": {},
      "outputs": [],
      "source": [
        "# To reset the conversation\n",
        "#ad.conversation =[]"
      ]
    },
    {
      "attachments": {},
      "cell_type": "markdown",
      "metadata": {},
      "source": [
        "## Notebook code"
      ]
    },
    {
      "cell_type": "code",
      "execution_count": 3,
      "metadata": {},
      "outputs": [],
      "source": [
        "from selenium import webdriver\n",
        "from selenium.webdriver.common.by import By\n",
        "from selenium.webdriver.common.keys import Keys\n",
        "\n",
        "import time\n",
        "\n",
        "class NotebookController:\n",
        "    def __init__(self, token) -> None:\n",
        "        notebook_url = f\"http://localhost:8889/notebooks/GPT3_notebook.ipynb?token={token}\"\n",
        "        print(notebook_url)\n",
        "        self.notebook_driver=webdriver.Chrome('/Users/jsedoc/Downloads/chromedriver')\n",
        "        self.notebook_driver.get(notebook_url)\n",
        "    \n",
        "    def run_code(self, code_text, cell_location=-1):\n",
        "        cell = self.notebook_driver.find_elements(By.CLASS_NAME, \"input_area\")\n",
        "        cell = cell[cell_location]\n",
        "        cell.click()\n",
        "\n",
        "        # Find the first code cell\n",
        "        cell = self.notebook_driver.find_elements(By.TAG_NAME, \"textarea\")\n",
        "        cell = cell[cell_location]\n",
        "\n",
        "        # Enter some code into the cell\n",
        "        #cell.clear()\n",
        "        cell.send_keys(Keys.COMMAND + 'a')\n",
        "        cell.send_keys(Keys.DELETE)\n",
        "        cell.send_keys(code_text)\n",
        "\n",
        "        cell.send_keys(Keys.CONTROL, Keys.ENTER)\n",
        "\n",
        "    def run_all_cells(self):\n",
        "        run_all_cells = self.notebook_driver.find_element(By.ID, \"run_all_cells\")\n",
        "        run_all_cells.click()\n",
        "\n",
        "    def get_output(self, cell_location=-1):\n",
        "        cell = self.notebook_driver.find_elements(By.CLASS_NAME, \"output_area\")\n",
        "        cell = cell[cell_location]\n",
        "        return cell.text\n",
        "\n",
        "    def new_cell(self):\n",
        "        #new_cell = notebook_driver.find_element(By.ID, \"insert_cell_below\")\n",
        "        #new_cell.click()\n",
        "        self.notebook_driver.find_element(By.XPATH, \"//button[@title='insert cell below']\").click()\n",
        "    \n",
        "    def delete_cell(self):\n",
        "        self.notebook_driver.find_element(By.XPATH, \"//button[@title='cut selected cells']\").click()\n",
        "\n",
        "    def restart_kernel(self):\n",
        "        self.notebook_driver.execute_script(\"Jupyter.notebook.restart_kernel()\")\n",
        "        time.sleep(1)\n",
        "        self.notebook_driver.find_element(By.XPATH, \"//button[@class='btn btn-default btn-sm btn-danger']\").click()\n",
        "        time.sleep(1)\n",
        "\n",
        "    def close(self):\n",
        "        self.notebook_driver.close()\n",
        "\n",
        "        "
      ]
    },
    {
      "cell_type": "code",
      "execution_count": 62,
      "metadata": {},
      "outputs": [
        {
          "name": "stdout",
          "output_type": "stream",
          "text": [
            "http://localhost:8889/notebooks/GPT3_notebook.ipynb?token=de3bd468afafc97d2070c3ca5a2e88388c70c7d6e4be84bd\n"
          ]
        },
        {
          "name": "stderr",
          "output_type": "stream",
          "text": [
            "/var/folders/b1/zt36t5217xl_7s5k38c836tc0000gn/T/ipykernel_96518/697486256.py:11: DeprecationWarning: executable_path has been deprecated, please pass in a Service object\n",
            "  self.notebook_driver=webdriver.Chrome('/Users/jsedoc/Downloads/chromedriver')\n"
          ]
        }
      ],
      "source": [
        "nbc = NotebookController('de3bd468afafc97d2070c3ca5a2e88388c70c7d6e4be84bd')"
      ]
    },
    {
      "cell_type": "code",
      "execution_count": 55,
      "metadata": {},
      "outputs": [],
      "source": [
        "nbc.run_code('import pandas as pd')"
      ]
    },
    {
      "cell_type": "code",
      "execution_count": 56,
      "metadata": {},
      "outputs": [],
      "source": [
        "nbc.new_cell()"
      ]
    },
    {
      "cell_type": "code",
      "execution_count": 57,
      "metadata": {},
      "outputs": [],
      "source": [
        "nbc.delete_cell()"
      ]
    },
    {
      "cell_type": "code",
      "execution_count": 60,
      "metadata": {},
      "outputs": [],
      "source": [
        "nbc.close()"
      ]
    },
    {
      "cell_type": "code",
      "execution_count": 63,
      "metadata": {},
      "outputs": [],
      "source": [
        "nbc.restart_kernel()"
      ]
    }
  ],
  "metadata": {
    "colab": {
      "collapsed_sections": [
        "xkm2gmG3sxyf",
        "Y6oBVN1is2aV"
      ],
      "provenance": []
    },
    "kernelspec": {
      "display_name": "amt",
      "language": "python",
      "name": "python3"
    },
    "language_info": {
      "codemirror_mode": {
        "name": "ipython",
        "version": 3
      },
      "file_extension": ".py",
      "mimetype": "text/x-python",
      "name": "python",
      "nbconvert_exporter": "python",
      "pygments_lexer": "ipython3",
      "version": "3.9.6"
    },
    "vscode": {
      "interpreter": {
        "hash": "996d79d73f731c6a436c6387536f27559e4afabc6d70cc805c1999779a6e9631"
      }
    }
  },
  "nbformat": 4,
  "nbformat_minor": 0
}
