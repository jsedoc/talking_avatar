{
  "cells": [
    {
      "cell_type": "markdown",
      "metadata": {
        "id": "sWNVdytXU30W"
      },
      "source": [
        "### **Backend**"
      ]
    },
    {
      "cell_type": "markdown",
      "metadata": {
        "id": "FAWAI8QbVUf6"
      },
      "source": [
        "setup"
      ]
    },
    {
      "cell_type": "code",
      "execution_count": 158,
      "metadata": {
        "id": "HuJc-XsMVAd-"
      },
      "outputs": [],
      "source": [
        "#!pip install selenium\n",
        "#!pip install SpeechRecognition\n",
        "#!pip install pyaudio"
      ]
    },
    {
      "cell_type": "code",
      "execution_count": 1,
      "metadata": {},
      "outputs": [],
      "source": [
        "import random\n",
        "import time\n",
        "\n",
        "from selenium import webdriver\n",
        "from selenium.webdriver.common.by import By\n",
        "\n",
        "import speech_recognition as sr\n",
        "import openai\n",
        "\n",
        "class Avatar:\n",
        "    def __init__(self) -> None:\n",
        "        driver=webdriver.Chrome('/Users/jsedoc/Downloads/chromedriver')\n",
        "        driver.get('http://localhost:3000/')\n",
        "\n",
        "        self.textarea = driver.find_element(By.TAG_NAME, \"textarea\")\n",
        "        self.button = driver.find_element(By.TAG_NAME, \"button\")\n",
        "\n",
        "        self.r = sr.Recognizer()\n",
        "        with sr.Microphone() as source:                # use the default microphone as the audio source\n",
        "            self.r.adjust_for_ambient_noise(source)         # listen for 1 second to calibrate the energy threshold for ambient noise levels\n",
        "\n",
        "\n",
        "        self.wps = 2 # words per second\n",
        "\n",
        "        self.conversation = []\n",
        "        \n",
        "    def speak(self, text):\n",
        "        self.textarea.clear()\n",
        "        self.textarea.send_keys(text)\n",
        "        self.button.click()\n",
        "        self.conversation.append(text)\n",
        "        # 1 sec start time and the number of words in the text divided by wps (average words per second)\n",
        "        time.sleep(1 + len(text.split())/self.wps)\n",
        "        #print('done talking')\n",
        "\n",
        "    def listen(self):\n",
        "        with sr.Microphone() as source:\n",
        "            audio = self.r.listen(source)\n",
        "            try:\n",
        "                text = self.r.recognize_google(audio)\n",
        "                self.conversation.append(text)\n",
        "                response = self.generate_response(text)\n",
        "                self.speak(response)\n",
        "            except KeyError:\n",
        "                print(\"Sorry, I didn't get that\")\n",
        "                if random.randint(1, 5) == 1:\n",
        "                    self.speak(\"hmmm ... I'm so sorry, I didn't get that\")\n",
        "\n",
        "    def text_input(self, text):\n",
        "        self.conversation.append(text)\n",
        "        response = self.generate_response(text)\n",
        "        self.speak(response)\n",
        "\n",
        "    def format_for_GPT(self):\n",
        "        output_string = ''\n",
        "        for i, message in enumerate(self.conversation):\n",
        "            if i % 2 == 0:\n",
        "                # Even index, message is from the user                                                                                  \n",
        "                output_string += f'You: {message}\\n'\n",
        "            else:\n",
        "                # Odd index, message is from Hal                                                                                        \n",
        "                output_string += f'Hal: {message}\\n'\n",
        "        return output_string\n",
        "\n",
        "    def generate_response(self, text):                                                                                                \n",
        "        # Implement chatbot's response generation logic here                                                                       \n",
        "                                                                                                                                        \n",
        "        openai.api_key = 'API_KEY'\n",
        "                                                                                                                                        \n",
        "        conv_str = self.format_for_GPT()                                                                                       \n",
        "                                                                                                                                                                                                                                    \n",
        "        prompt=f\"Hal is a chatbot. Hal responds like an expert data scientist. Hal has read Data Science for Business in preparation for the interview.\\n\\n{conv_str}\\nHal: \"\n",
        "                                                                                                                                        \n",
        "        #print(prompt)                                                                                                                  \n",
        "                                                                                                                                        \n",
        "        response = openai.Completion.create(                                                                                            \n",
        "            model=\"text-davinci-003\",                                                                                                   \n",
        "            prompt=prompt,                                                                                                              \n",
        "            temperature=0.5,                                                                                                            \n",
        "            max_tokens=289,                                                                                                             \n",
        "            top_p=0.3,                                                                                                                  \n",
        "            frequency_penalty=0.5,                                                                                                      \n",
        "            presence_penalty=0.3,                                                                                                       \n",
        "            stop=[\"You:\"]                                                                                                               \n",
        "        )                                                                                                                               \n",
        "                                                                                                                                        \n",
        "        response_text = response.choices[0].text.replace('Hal: ', '')                                                                   \n",
        "        return response_text \n",
        "    "
      ]
    },
    {
      "cell_type": "code",
      "execution_count": 2,
      "metadata": {},
      "outputs": [
        {
          "name": "stderr",
          "output_type": "stream",
          "text": [
            "/var/folders/b1/zt36t5217xl_7s5k38c836tc0000gn/T/ipykernel_26513/523014197.py:12: DeprecationWarning: executable_path has been deprecated, please pass in a Service object\n",
            "  driver=webdriver.Chrome('/Users/jsedoc/Downloads/chromedriver')\n"
          ]
        }
      ],
      "source": [
        "ad = Avatar()\n",
        "time.sleep(10)\n",
        "ad.speak(\"Hello, I am Hal. It's a pleasure to meet you. What would you like to talk about?\")\n",
        "#ad.listen()"
      ]
    },
    {
      "cell_type": "code",
      "execution_count": 6,
      "metadata": {},
      "outputs": [
        {
          "ename": "KeyboardInterrupt",
          "evalue": "Interrupted by user",
          "output_type": "error",
          "traceback": [
            "\u001b[0;31m---------------------------------------------------------------------------\u001b[0m",
            "\u001b[0;31mKeyboardInterrupt\u001b[0m                         Traceback (most recent call last)",
            "\u001b[0;32m/var/folders/b1/zt36t5217xl_7s5k38c836tc0000gn/T/ipykernel_26513/1623095751.py\u001b[0m in \u001b[0;36m<module>\u001b[0;34m\u001b[0m\n\u001b[1;32m      1\u001b[0m \u001b[0;32mwhile\u001b[0m \u001b[0;36m1\u001b[0m\u001b[0;34m:\u001b[0m\u001b[0;34m\u001b[0m\u001b[0;34m\u001b[0m\u001b[0m\n\u001b[0;32m----> 2\u001b[0;31m     \u001b[0mtext\u001b[0m \u001b[0;34m=\u001b[0m \u001b[0minput\u001b[0m\u001b[0;34m(\u001b[0m\u001b[0;34m)\u001b[0m\u001b[0;34m\u001b[0m\u001b[0;34m\u001b[0m\u001b[0m\n\u001b[0m\u001b[1;32m      3\u001b[0m     \u001b[0mad\u001b[0m\u001b[0;34m.\u001b[0m\u001b[0mtext_input\u001b[0m\u001b[0;34m(\u001b[0m\u001b[0mtext\u001b[0m\u001b[0;34m)\u001b[0m\u001b[0;34m\u001b[0m\u001b[0;34m\u001b[0m\u001b[0m\n",
            "\u001b[0;32m~/miniforge3/envs/amt/lib/python3.9/site-packages/ipykernel/kernelbase.py\u001b[0m in \u001b[0;36mraw_input\u001b[0;34m(self, prompt)\u001b[0m\n\u001b[1;32m    979\u001b[0m                 \u001b[0;34m\"raw_input was called, but this frontend does not support input requests.\"\u001b[0m\u001b[0;34m\u001b[0m\u001b[0;34m\u001b[0m\u001b[0m\n\u001b[1;32m    980\u001b[0m             )\n\u001b[0;32m--> 981\u001b[0;31m         return self._input_request(\n\u001b[0m\u001b[1;32m    982\u001b[0m             \u001b[0mstr\u001b[0m\u001b[0;34m(\u001b[0m\u001b[0mprompt\u001b[0m\u001b[0;34m)\u001b[0m\u001b[0;34m,\u001b[0m\u001b[0;34m\u001b[0m\u001b[0;34m\u001b[0m\u001b[0m\n\u001b[1;32m    983\u001b[0m             \u001b[0mself\u001b[0m\u001b[0;34m.\u001b[0m\u001b[0m_parent_ident\u001b[0m\u001b[0;34m[\u001b[0m\u001b[0;34m\"shell\"\u001b[0m\u001b[0;34m]\u001b[0m\u001b[0;34m,\u001b[0m\u001b[0;34m\u001b[0m\u001b[0;34m\u001b[0m\u001b[0m\n",
            "\u001b[0;32m~/miniforge3/envs/amt/lib/python3.9/site-packages/ipykernel/kernelbase.py\u001b[0m in \u001b[0;36m_input_request\u001b[0;34m(self, prompt, ident, parent, password)\u001b[0m\n\u001b[1;32m   1024\u001b[0m             \u001b[0;32mexcept\u001b[0m \u001b[0mKeyboardInterrupt\u001b[0m\u001b[0;34m:\u001b[0m\u001b[0;34m\u001b[0m\u001b[0;34m\u001b[0m\u001b[0m\n\u001b[1;32m   1025\u001b[0m                 \u001b[0;31m# re-raise KeyboardInterrupt, to truncate traceback\u001b[0m\u001b[0;34m\u001b[0m\u001b[0;34m\u001b[0m\u001b[0;34m\u001b[0m\u001b[0m\n\u001b[0;32m-> 1026\u001b[0;31m                 \u001b[0;32mraise\u001b[0m \u001b[0mKeyboardInterrupt\u001b[0m\u001b[0;34m(\u001b[0m\u001b[0;34m\"Interrupted by user\"\u001b[0m\u001b[0;34m)\u001b[0m \u001b[0;32mfrom\u001b[0m \u001b[0;32mNone\u001b[0m\u001b[0;34m\u001b[0m\u001b[0;34m\u001b[0m\u001b[0m\n\u001b[0m\u001b[1;32m   1027\u001b[0m             \u001b[0;32mexcept\u001b[0m \u001b[0mException\u001b[0m\u001b[0;34m:\u001b[0m\u001b[0;34m\u001b[0m\u001b[0;34m\u001b[0m\u001b[0m\n\u001b[1;32m   1028\u001b[0m                 \u001b[0mself\u001b[0m\u001b[0;34m.\u001b[0m\u001b[0mlog\u001b[0m\u001b[0;34m.\u001b[0m\u001b[0mwarning\u001b[0m\u001b[0;34m(\u001b[0m\u001b[0;34m\"Invalid Message:\"\u001b[0m\u001b[0;34m,\u001b[0m \u001b[0mexc_info\u001b[0m\u001b[0;34m=\u001b[0m\u001b[0;32mTrue\u001b[0m\u001b[0;34m)\u001b[0m\u001b[0;34m\u001b[0m\u001b[0;34m\u001b[0m\u001b[0m\n",
            "\u001b[0;31mKeyboardInterrupt\u001b[0m: Interrupted by user"
          ]
        }
      ],
      "source": [
        "while 1:\n",
        "    text = input()\n",
        "    ad.text_input(text)"
      ]
    },
    {
      "cell_type": "code",
      "execution_count": 5,
      "metadata": {},
      "outputs": [
        {
          "name": "stdout",
          "output_type": "stream",
          "text": [
            "result2:\n",
            "{   'alternative': [   {   'confidence': 0.95921165,\n",
            "                           'transcript': \"what's the difference between a \"\n",
            "                                         'regression and support Vector '\n",
            "                                         'regression'},\n",
            "                       {   'transcript': \"what's the difference between a \"\n",
            "                                         'regression and support Vector '\n",
            "                                         'aggression'},\n",
            "                       {   'transcript': \"what's the difference between a \"\n",
            "                                         'regression and supportive Vector '\n",
            "                                         'regression'},\n",
            "                       {   'transcript': \"what's the difference between a \"\n",
            "                                         'regression and supportive Vector '\n",
            "                                         'aggression'},\n",
            "                       {   'transcript': \"what's the difference between a \"\n",
            "                                         'regression and support vectore '\n",
            "                                         'aggression'}],\n",
            "    'final': True}\n"
          ]
        }
      ],
      "source": [
        "ad.wps=2.2\n",
        "ad.listen()"
      ]
    },
    {
      "cell_type": "code",
      "execution_count": 125,
      "metadata": {},
      "outputs": [],
      "source": [
        "# To reset the conversation\n",
        "#ad.conversation =[]"
      ]
    },
    {
      "attachments": {},
      "cell_type": "markdown",
      "metadata": {},
      "source": [
        "## Notebook code"
      ]
    },
    {
      "cell_type": "code",
      "execution_count": 7,
      "metadata": {},
      "outputs": [
        {
          "name": "stderr",
          "output_type": "stream",
          "text": [
            "/var/folders/b1/zt36t5217xl_7s5k38c836tc0000gn/T/ipykernel_26513/194011807.py:3: DeprecationWarning: executable_path has been deprecated, please pass in a Service object\n",
            "  notebook_driver=webdriver.Chrome('/Users/jsedoc/Downloads/chromedriver')\n"
          ]
        }
      ],
      "source": [
        "token = 'aa9d1be8b386f0a2ee754fb99e8a01a94a8544ba74bd249e'\n",
        "notebook_url = f\"http://localhost:8889/notebooks/GPT3_notebook.ipynb?token={token}\"\n",
        "notebook_driver=webdriver.Chrome('/Users/jsedoc/Downloads/chromedriver')\n",
        "notebook_driver.get(notebook_url)"
      ]
    },
    {
      "cell_type": "code",
      "execution_count": 9,
      "metadata": {},
      "outputs": [],
      "source": [
        "from selenium.webdriver.common.keys import Keys\n",
        "\n",
        "cell = notebook_driver.find_element(By.CLASS_NAME, \"input_area\")\n",
        "cell.click()\n",
        "\n",
        "# Find the first code cell\n",
        "cell = notebook_driver.find_element(By.TAG_NAME, \"textarea\")\n",
        "\n",
        "# Enter some code into the cell\n",
        "#cell.clear()\n",
        "cell.send_keys(Keys.COMMAND + 'a')\n",
        "cell.send_keys(Keys.DELETE)\n",
        "cell.send_keys(\"print('new text')\")\n",
        "\n",
        "cell.send_keys(Keys.CONTROL, Keys.ENTER)\n",
        "\n",
        "cell = notebook_driver.find_element(By.TAG_NAME, \"textarea\")\n"
      ]
    },
    {
      "cell_type": "code",
      "execution_count": 120,
      "metadata": {},
      "outputs": [],
      "source": [
        "notebook_driver.find_element(By.XPATH, \"//button[@title='insert cell below']\").click()"
      ]
    },
    {
      "cell_type": "code",
      "execution_count": 124,
      "metadata": {},
      "outputs": [
        {
          "ename": "NoSuchElementException",
          "evalue": "Message: no such element: Unable to locate element: {\"method\":\"xpath\",\"selector\":\"//inputarea[last()]\"}\n  (Session info: chrome=109.0.5414.119)\nStacktrace:\n0   chromedriver                        0x0000000100848fa8 chromedriver + 4886440\n1   chromedriver                        0x00000001007c6643 chromedriver + 4351555\n2   chromedriver                        0x0000000100414b27 chromedriver + 477991\n3   chromedriver                        0x000000010045976c chromedriver + 759660\n4   chromedriver                        0x00000001004599c1 chromedriver + 760257\n5   chromedriver                        0x000000010049d204 chromedriver + 1036804\n6   chromedriver                        0x000000010047f5fd chromedriver + 914941\n7   chromedriver                        0x000000010049a5fe chromedriver + 1025534\n8   chromedriver                        0x000000010047f3a3 chromedriver + 914339\n9   chromedriver                        0x000000010044957f chromedriver + 693631\n10  chromedriver                        0x000000010044ab1e chromedriver + 699166\n11  chromedriver                        0x0000000100815b9e chromedriver + 4676510\n12  chromedriver                        0x000000010081a91e chromedriver + 4696350\n13  chromedriver                        0x000000010082219f chromedriver + 4727199\n14  chromedriver                        0x000000010081b81a chromedriver + 4700186\n15  chromedriver                        0x00000001007eea62 chromedriver + 4516450\n16  chromedriver                        0x000000010083a8c8 chromedriver + 4827336\n17  chromedriver                        0x000000010083aa45 chromedriver + 4827717\n18  chromedriver                        0x00000001008507ef chromedriver + 4917231\n19  libsystem_pthread.dylib             0x00007ff807cf9259 _pthread_start + 125\n20  libsystem_pthread.dylib             0x00007ff807cf4c7b thread_start + 15\n",
          "output_type": "error",
          "traceback": [
            "\u001b[0;31m---------------------------------------------------------------------------\u001b[0m",
            "\u001b[0;31mNoSuchElementException\u001b[0m                    Traceback (most recent call last)",
            "\u001b[0;32m/var/folders/b1/zt36t5217xl_7s5k38c836tc0000gn/T/ipykernel_16313/1825632012.py\u001b[0m in \u001b[0;36m<module>\u001b[0;34m\u001b[0m\n\u001b[0;32m----> 1\u001b[0;31m \u001b[0mcell\u001b[0m \u001b[0;34m=\u001b[0m \u001b[0mnotebook_driver\u001b[0m\u001b[0;34m.\u001b[0m\u001b[0mfind_element\u001b[0m\u001b[0;34m(\u001b[0m\u001b[0mBy\u001b[0m\u001b[0;34m.\u001b[0m\u001b[0mXPATH\u001b[0m\u001b[0;34m,\u001b[0m \u001b[0;34m\"//inputarea[last()]\"\u001b[0m\u001b[0;34m)\u001b[0m\u001b[0;34m\u001b[0m\u001b[0;34m\u001b[0m\u001b[0m\n\u001b[0m\u001b[1;32m      2\u001b[0m \u001b[0mcell\u001b[0m\u001b[0;34m.\u001b[0m\u001b[0mclick\u001b[0m\u001b[0;34m(\u001b[0m\u001b[0;34m)\u001b[0m\u001b[0;34m\u001b[0m\u001b[0;34m\u001b[0m\u001b[0m\n\u001b[1;32m      3\u001b[0m \u001b[0;34m\u001b[0m\u001b[0m\n\u001b[1;32m      4\u001b[0m \u001b[0;31m# Find the first code cell\u001b[0m\u001b[0;34m\u001b[0m\u001b[0;34m\u001b[0m\u001b[0;34m\u001b[0m\u001b[0m\n\u001b[1;32m      5\u001b[0m \u001b[0mcell\u001b[0m \u001b[0;34m=\u001b[0m \u001b[0mnotebook_driver\u001b[0m\u001b[0;34m.\u001b[0m\u001b[0mfind_element\u001b[0m\u001b[0;34m(\u001b[0m\u001b[0mBy\u001b[0m\u001b[0;34m.\u001b[0m\u001b[0mTAG_NAME\u001b[0m\u001b[0;34m,\u001b[0m \u001b[0;34m\"textarea\"\u001b[0m\u001b[0;34m)\u001b[0m\u001b[0;34m\u001b[0m\u001b[0;34m\u001b[0m\u001b[0m\n",
            "\u001b[0;32m~/miniforge3/envs/amt/lib/python3.9/site-packages/selenium/webdriver/remote/webdriver.py\u001b[0m in \u001b[0;36mfind_element\u001b[0;34m(self, by, value)\u001b[0m\n\u001b[1;32m    828\u001b[0m             \u001b[0mvalue\u001b[0m \u001b[0;34m=\u001b[0m \u001b[0;34mf'[name=\"{value}\"]'\u001b[0m\u001b[0;34m\u001b[0m\u001b[0;34m\u001b[0m\u001b[0m\n\u001b[1;32m    829\u001b[0m \u001b[0;34m\u001b[0m\u001b[0m\n\u001b[0;32m--> 830\u001b[0;31m         \u001b[0;32mreturn\u001b[0m \u001b[0mself\u001b[0m\u001b[0;34m.\u001b[0m\u001b[0mexecute\u001b[0m\u001b[0;34m(\u001b[0m\u001b[0mCommand\u001b[0m\u001b[0;34m.\u001b[0m\u001b[0mFIND_ELEMENT\u001b[0m\u001b[0;34m,\u001b[0m \u001b[0;34m{\u001b[0m\u001b[0;34m\"using\"\u001b[0m\u001b[0;34m:\u001b[0m \u001b[0mby\u001b[0m\u001b[0;34m,\u001b[0m \u001b[0;34m\"value\"\u001b[0m\u001b[0;34m:\u001b[0m \u001b[0mvalue\u001b[0m\u001b[0;34m}\u001b[0m\u001b[0;34m)\u001b[0m\u001b[0;34m[\u001b[0m\u001b[0;34m\"value\"\u001b[0m\u001b[0;34m]\u001b[0m\u001b[0;34m\u001b[0m\u001b[0;34m\u001b[0m\u001b[0m\n\u001b[0m\u001b[1;32m    831\u001b[0m \u001b[0;34m\u001b[0m\u001b[0m\n\u001b[1;32m    832\u001b[0m     \u001b[0;32mdef\u001b[0m \u001b[0mfind_elements\u001b[0m\u001b[0;34m(\u001b[0m\u001b[0mself\u001b[0m\u001b[0;34m,\u001b[0m \u001b[0mby\u001b[0m\u001b[0;34m=\u001b[0m\u001b[0mBy\u001b[0m\u001b[0;34m.\u001b[0m\u001b[0mID\u001b[0m\u001b[0;34m,\u001b[0m \u001b[0mvalue\u001b[0m\u001b[0;34m:\u001b[0m \u001b[0mOptional\u001b[0m\u001b[0;34m[\u001b[0m\u001b[0mstr\u001b[0m\u001b[0;34m]\u001b[0m \u001b[0;34m=\u001b[0m \u001b[0;32mNone\u001b[0m\u001b[0;34m)\u001b[0m \u001b[0;34m->\u001b[0m \u001b[0mList\u001b[0m\u001b[0;34m[\u001b[0m\u001b[0mWebElement\u001b[0m\u001b[0;34m]\u001b[0m\u001b[0;34m:\u001b[0m\u001b[0;34m\u001b[0m\u001b[0;34m\u001b[0m\u001b[0m\n",
            "\u001b[0;32m~/miniforge3/envs/amt/lib/python3.9/site-packages/selenium/webdriver/remote/webdriver.py\u001b[0m in \u001b[0;36mexecute\u001b[0;34m(self, driver_command, params)\u001b[0m\n\u001b[1;32m    438\u001b[0m         \u001b[0mresponse\u001b[0m \u001b[0;34m=\u001b[0m \u001b[0mself\u001b[0m\u001b[0;34m.\u001b[0m\u001b[0mcommand_executor\u001b[0m\u001b[0;34m.\u001b[0m\u001b[0mexecute\u001b[0m\u001b[0;34m(\u001b[0m\u001b[0mdriver_command\u001b[0m\u001b[0;34m,\u001b[0m \u001b[0mparams\u001b[0m\u001b[0;34m)\u001b[0m\u001b[0;34m\u001b[0m\u001b[0;34m\u001b[0m\u001b[0m\n\u001b[1;32m    439\u001b[0m         \u001b[0;32mif\u001b[0m \u001b[0mresponse\u001b[0m\u001b[0;34m:\u001b[0m\u001b[0;34m\u001b[0m\u001b[0;34m\u001b[0m\u001b[0m\n\u001b[0;32m--> 440\u001b[0;31m             \u001b[0mself\u001b[0m\u001b[0;34m.\u001b[0m\u001b[0merror_handler\u001b[0m\u001b[0;34m.\u001b[0m\u001b[0mcheck_response\u001b[0m\u001b[0;34m(\u001b[0m\u001b[0mresponse\u001b[0m\u001b[0;34m)\u001b[0m\u001b[0;34m\u001b[0m\u001b[0;34m\u001b[0m\u001b[0m\n\u001b[0m\u001b[1;32m    441\u001b[0m             \u001b[0mresponse\u001b[0m\u001b[0;34m[\u001b[0m\u001b[0;34m\"value\"\u001b[0m\u001b[0;34m]\u001b[0m \u001b[0;34m=\u001b[0m \u001b[0mself\u001b[0m\u001b[0;34m.\u001b[0m\u001b[0m_unwrap_value\u001b[0m\u001b[0;34m(\u001b[0m\u001b[0mresponse\u001b[0m\u001b[0;34m.\u001b[0m\u001b[0mget\u001b[0m\u001b[0;34m(\u001b[0m\u001b[0;34m\"value\"\u001b[0m\u001b[0;34m,\u001b[0m \u001b[0;32mNone\u001b[0m\u001b[0;34m)\u001b[0m\u001b[0;34m)\u001b[0m\u001b[0;34m\u001b[0m\u001b[0;34m\u001b[0m\u001b[0m\n\u001b[1;32m    442\u001b[0m             \u001b[0;32mreturn\u001b[0m \u001b[0mresponse\u001b[0m\u001b[0;34m\u001b[0m\u001b[0;34m\u001b[0m\u001b[0m\n",
            "\u001b[0;32m~/miniforge3/envs/amt/lib/python3.9/site-packages/selenium/webdriver/remote/errorhandler.py\u001b[0m in \u001b[0;36mcheck_response\u001b[0;34m(self, response)\u001b[0m\n\u001b[1;32m    243\u001b[0m                 \u001b[0malert_text\u001b[0m \u001b[0;34m=\u001b[0m \u001b[0mvalue\u001b[0m\u001b[0;34m[\u001b[0m\u001b[0;34m\"alert\"\u001b[0m\u001b[0;34m]\u001b[0m\u001b[0;34m.\u001b[0m\u001b[0mget\u001b[0m\u001b[0;34m(\u001b[0m\u001b[0;34m\"text\"\u001b[0m\u001b[0;34m)\u001b[0m\u001b[0;34m\u001b[0m\u001b[0;34m\u001b[0m\u001b[0m\n\u001b[1;32m    244\u001b[0m             \u001b[0;32mraise\u001b[0m \u001b[0mexception_class\u001b[0m\u001b[0;34m(\u001b[0m\u001b[0mmessage\u001b[0m\u001b[0;34m,\u001b[0m \u001b[0mscreen\u001b[0m\u001b[0;34m,\u001b[0m \u001b[0mstacktrace\u001b[0m\u001b[0;34m,\u001b[0m \u001b[0malert_text\u001b[0m\u001b[0;34m)\u001b[0m  \u001b[0;31m# type: ignore[call-arg]  # mypy is not smart enough here\u001b[0m\u001b[0;34m\u001b[0m\u001b[0;34m\u001b[0m\u001b[0m\n\u001b[0;32m--> 245\u001b[0;31m         \u001b[0;32mraise\u001b[0m \u001b[0mexception_class\u001b[0m\u001b[0;34m(\u001b[0m\u001b[0mmessage\u001b[0m\u001b[0;34m,\u001b[0m \u001b[0mscreen\u001b[0m\u001b[0;34m,\u001b[0m \u001b[0mstacktrace\u001b[0m\u001b[0;34m)\u001b[0m\u001b[0;34m\u001b[0m\u001b[0;34m\u001b[0m\u001b[0m\n\u001b[0m",
            "\u001b[0;31mNoSuchElementException\u001b[0m: Message: no such element: Unable to locate element: {\"method\":\"xpath\",\"selector\":\"//inputarea[last()]\"}\n  (Session info: chrome=109.0.5414.119)\nStacktrace:\n0   chromedriver                        0x0000000100848fa8 chromedriver + 4886440\n1   chromedriver                        0x00000001007c6643 chromedriver + 4351555\n2   chromedriver                        0x0000000100414b27 chromedriver + 477991\n3   chromedriver                        0x000000010045976c chromedriver + 759660\n4   chromedriver                        0x00000001004599c1 chromedriver + 760257\n5   chromedriver                        0x000000010049d204 chromedriver + 1036804\n6   chromedriver                        0x000000010047f5fd chromedriver + 914941\n7   chromedriver                        0x000000010049a5fe chromedriver + 1025534\n8   chromedriver                        0x000000010047f3a3 chromedriver + 914339\n9   chromedriver                        0x000000010044957f chromedriver + 693631\n10  chromedriver                        0x000000010044ab1e chromedriver + 699166\n11  chromedriver                        0x0000000100815b9e chromedriver + 4676510\n12  chromedriver                        0x000000010081a91e chromedriver + 4696350\n13  chromedriver                        0x000000010082219f chromedriver + 4727199\n14  chromedriver                        0x000000010081b81a chromedriver + 4700186\n15  chromedriver                        0x00000001007eea62 chromedriver + 4516450\n16  chromedriver                        0x000000010083a8c8 chromedriver + 4827336\n17  chromedriver                        0x000000010083aa45 chromedriver + 4827717\n18  chromedriver                        0x00000001008507ef chromedriver + 4917231\n19  libsystem_pthread.dylib             0x00007ff807cf9259 _pthread_start + 125\n20  libsystem_pthread.dylib             0x00007ff807cf4c7b thread_start + 15\n"
          ]
        }
      ],
      "source": [
        "cell = notebook_driver.find_element(By.XPATH, \"//inputarea[last()]\")\n",
        "cell.click()\n",
        "\n",
        "# Find the first code cell\n",
        "cell = notebook_driver.find_element(By.TAG_NAME, \"textarea\")\n",
        "\n",
        "# Enter some code into the cell\n",
        "#cell.clear()\n",
        "cell.send_keys(Keys.COMMAND + 'a')\n",
        "cell.send_keys(Keys.DELETE)\n",
        "cell.send_keys(\"print('text')\")"
      ]
    }
  ],
  "metadata": {
    "colab": {
      "collapsed_sections": [
        "xkm2gmG3sxyf",
        "Y6oBVN1is2aV"
      ],
      "provenance": []
    },
    "kernelspec": {
      "display_name": "amt",
      "language": "python",
      "name": "python3"
    },
    "language_info": {
      "codemirror_mode": {
        "name": "ipython",
        "version": 3
      },
      "file_extension": ".py",
      "mimetype": "text/x-python",
      "name": "python",
      "nbconvert_exporter": "python",
      "pygments_lexer": "ipython3",
      "version": "3.9.6"
    },
    "vscode": {
      "interpreter": {
        "hash": "996d79d73f731c6a436c6387536f27559e4afabc6d70cc805c1999779a6e9631"
      }
    }
  },
  "nbformat": 4,
  "nbformat_minor": 0
}
